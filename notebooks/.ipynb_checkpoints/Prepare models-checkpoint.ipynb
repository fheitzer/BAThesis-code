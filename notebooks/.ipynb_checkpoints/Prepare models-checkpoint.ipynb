{
 "cells": [
  {
   "cell_type": "markdown",
   "metadata": {},
   "source": [
    "# Setting up the models for the ensemble"
   ]
  },
  {
   "cell_type": "code",
   "execution_count": 33,
   "metadata": {},
   "outputs": [
    {
     "data": {
      "text/plain": [
       "<module 'lib.utils' from '/Users/floyd/Documents/Studium/BAE/continuous_training_using_ensemble_networks/notebooks/../lib/utils.py'>"
      ]
     },
     "execution_count": 33,
     "metadata": {},
     "output_type": "execute_result"
    }
   ],
   "source": [
    "# Reload module in case of changes\n",
    "importlib.reload(utils)"
   ]
  },
  {
   "cell_type": "code",
   "execution_count": 1,
   "metadata": {},
   "outputs": [],
   "source": [
    "import tensorflow as tf\n",
    "import numpy as np\n",
    "import pandas as pd\n",
    "\n",
    "import sys; sys.path.insert(0, '..')\n",
    "import importlib\n",
    "\n",
    "from lib import data, networks, training, utils"
   ]
  },
  {
   "cell_type": "markdown",
   "metadata": {},
   "source": [
    "## Load preprocessed dataset"
   ]
  },
  {
   "cell_type": "code",
   "execution_count": 2,
   "metadata": {},
   "outputs": [
    {
     "name": "stderr",
     "output_type": "stream",
     "text": [
      "2022-04-15 13:05:17.004549: I tensorflow/core/platform/cpu_feature_guard.cc:142] This TensorFlow binary is optimized with oneAPI Deep Neural Network Library (oneDNN) to use the following CPU instructions in performance-critical operations:  SSE4.1 SSE4.2 AVX AVX2 FMA\n",
      "To enable them in other operations, rebuild TensorFlow with the appropriate compiler flags.\n"
     ]
    }
   ],
   "source": [
    "# load 10 class data\n",
    "train_ds_pre, train_ds_post, test_ds, train_generator, test_generator = data.load_data(rotation=30)\n",
    "dataset_shape = (tf.TensorSpec(shape=(28,28,1), dtype=tf.float64),\n",
    "                tf.TensorSpec(shape=(10,), dtype=tf.float32),\n",
    "                tf.TensorSpec(shape=(), dtype=tf.int32),\n",
    "                tf.TensorSpec(shape=(10,), dtype=tf.float32))"
   ]
  },
  {
   "cell_type": "markdown",
   "metadata": {},
   "source": [
    "## Have a look at the normal data"
   ]
  },
  {
   "cell_type": "code",
   "execution_count": 3,
   "metadata": {},
   "outputs": [
    {
     "name": "stderr",
     "output_type": "stream",
     "text": [
      "2022-03-23 22:14:02.779284: I tensorflow/compiler/mlir/mlir_graph_optimization_pass.cc:116] None of the MLIR optimization passes are enabled (registered 2)\n"
     ]
    },
    {
     "data": {
      "image/png": "[encoded data removed]",
      "text/plain": [
       "<Figure size 432x288 with 1 Axes>"
      ]
     },
     "metadata": {
      "needs_background": "light"
     },
     "output_type": "display_data"
    }
   ],
   "source": [
    "for x, y in train_ds_pre.take(1):\n",
    "    utils.plot(x)"
   ]
  },
  {
   "cell_type": "markdown",
   "metadata": {},
   "source": [
    "## Have a look at the generator data"
   ]
  },
  {
   "cell_type": "code",
   "execution_count": 18,
   "metadata": {},
   "outputs": [
    {
     "data": {
      "image/png": "[encoded data removed]",
      "text/plain": [
       "<Figure size 432x288 with 1 Axes>"
      ]
     },
     "metadata": {
      "needs_background": "light"
     },
     "output_type": "display_data"
    }
   ],
   "source": [
    "for x, y in train_generator:\n",
    "    utils.plot(tf.convert_to_tensor(x))\n",
    "    break"
   ]
  },
  {
   "cell_type": "markdown",
   "metadata": {},
   "source": [
    "## Initialize the models"
   ]
  },
  {
   "cell_type": "code",
   "execution_count": 3,
   "metadata": {},
   "outputs": [],
   "source": [
    "num_classes = 10\n",
    "# Small model\n",
    "model1 = networks.NN([128, 128], num_classes)\n",
    "# Broad Model\n",
    "model2 = networks.NN([512], num_classes)\n",
    "# Mixed Model\n",
    "#model3a = networks.NN([256, 256], num_classes)\n",
    "\n",
    "model3b = networks.CNN([(32, 3), (64, 5)])\n",
    "# cnn\n",
    "model4 = networks.CNN([(32, 3), (64, 5), (128, 7)], num_classes)\n",
    "# cnn small\n",
    "model5 = networks.CNN([(16, 3), (32, 3), (64, 5)], num_classes)\n",
    "# ensemble\n",
    "ensemble = networks.Ensemble([model1, model2, model3b, model4, model5])"
   ]
  },
  {
   "cell_type": "markdown",
   "metadata": {},
   "source": [
    "## Load the weights from pre-training"
   ]
  },
  {
   "cell_type": "code",
   "execution_count": 15,
   "metadata": {},
   "outputs": [
    {
     "data": {
      "text/plain": [
       "<tensorflow.python.training.tracking.util.CheckpointLoadStatus at 0x1638ac790>"
      ]
     },
     "execution_count": 15,
     "metadata": {},
     "output_type": "execute_result"
    }
   ],
   "source": [
    "model1.load_weights('../models/NN128128')\n",
    "model2.load_weights('../models/NN512')\n",
    "#model3a.load_weights('../models/NN256256')\n",
    "model4.load_weights('../models/CNN3264128')\n",
    "model5.load_weights('../models/CNN163264')"
   ]
  },
  {
   "cell_type": "code",
   "execution_count": 4,
   "metadata": {},
   "outputs": [
    {
     "data": {
      "text/plain": [
       "<tensorflow.python.training.tracking.util.CheckpointLoadStatus at 0x162bb1e80>"
      ]
     },
     "execution_count": 4,
     "metadata": {},
     "output_type": "execute_result"
    }
   ],
   "source": [
    "model1.load_weights('../models/NN128128extra')\n",
    "model2.load_weights('../models/NN512extra')\n",
    "model3b.load_weights('../models/CNN3264extra')\n",
    "model4.load_weights('../models/CNN3264128extra')\n",
    "model5.load_weights('../models/CNN163264extra')"
   ]
  },
  {
   "cell_type": "code",
   "execution_count": 6,
   "metadata": {},
   "outputs": [
    {
     "name": "stdout",
     "output_type": "stream",
     "text": [
      "Epoch: __ 0\n"
     ]
    },
    {
     "name": "stderr",
     "output_type": "stream",
     "text": [
      "2022-04-08 14:56:41.953028: I tensorflow/compiler/mlir/mlir_graph_optimization_pass.cc:116] None of the MLIR optimization passes are enabled (registered 2)\n"
     ]
    },
    {
     "name": "stdout",
     "output_type": "stream",
     "text": [
      "LOSS 0.13575510372985392 ::: ACC 0.9604430379746836\n",
      "Epoch: __ 1\n",
      "LOSS 0.12691267912240722 ::: ACC 0.9615308544303798\n",
      "Epoch: __ 2\n",
      "LOSS 0.10675574326298282 ::: ACC 0.9678599683544303\n",
      "Epoch: __ 3\n",
      "LOSS 0.1051780228220115 ::: ACC 0.9681566455696202\n",
      "Epoch: __ 4\n",
      "LOSS 0.09733910204936998 ::: ACC 0.9716178797468354\n"
     ]
    }
   ],
   "source": [
    "_,_,_ = training.pretraining(model2, train_ds_pre, test_ds, epochs=5)"
   ]
  },
  {
   "cell_type": "markdown",
   "metadata": {},
   "source": [
    "## Ensemble accuracy on normal test data after pre training"
   ]
  },
  {
   "cell_type": "code",
   "execution_count": 19,
   "metadata": {},
   "outputs": [
    {
     "name": "stdout",
     "output_type": "stream",
     "text": [
      "Testing models in ensemble\n",
      "Model: __ 0\n",
      "LOSS 0.14799747606621513 ::: ACC 0.9567840189873418\n",
      "Model: __ 1\n",
      "LOSS 0.15022341016373492 ::: ACC 0.9553995253164557\n",
      "Model: __ 2\n",
      "LOSS 0.13765182189313294 ::: ACC 0.9574762658227848\n",
      "Model: __ 3\n",
      "LOSS 0.1074675908754285 ::: ACC 0.9657832278481012\n",
      "Model: __ 4\n",
      "LOSS 0.1239947147337319 ::: ACC 0.9635087025316456\n",
      "Ensemble:\n",
      "LOSS nan ::: ACC 0.9489715189873418\n"
     ]
    }
   ],
   "source": [
    "_, acc = training.test_ensemble(ensemble, test_ds, tf.keras.losses.CategoricalCrossentropy())"
   ]
  },
  {
   "cell_type": "markdown",
   "metadata": {},
   "source": [
    "## Ensemble accuracy on augmented after pre-training"
   ]
  },
  {
   "cell_type": "code",
   "execution_count": 21,
   "metadata": {},
   "outputs": [
    {
     "name": "stdout",
     "output_type": "stream",
     "text": [
      "Testing models in ensemble\n",
      "Model: __ 0\n",
      "LOSS 0.49893946370611547 ::: ACC 0.8525147485251475\n",
      "Model: __ 1\n",
      "LOSS 0.5060726154606998 ::: ACC 0.8542145785421458\n",
      "Model: __ 2\n",
      "LOSS 0.4869611615137554 ::: ACC 0.8593140685931406\n",
      "Model: __ 3\n",
      "LOSS 0.35735883128605145 ::: ACC 0.8902109789021098\n",
      "Model: __ 4\n",
      "LOSS 0.3808865072396109 ::: ACC 0.8844115588441156\n",
      "Ensemble:\n",
      "LOSS nan ::: ACC 0.8285171482851715\n"
     ]
    }
   ],
   "source": [
    "_, acc = training.test_ensemble(ensemble, test_generator, tf.keras.losses.CategoricalCrossentropy())"
   ]
  }
 ],
 "metadata": {
  "colab": {
   "authorship_tag": "ABX9TyNNtjlEikE9m+npsusDBi5H",
   "collapsed_sections": [],
   "name": "Continuous Training in Ensemble Neural Networks.ipynb",
   "provenance": []
  },
  "kernelspec": {
   "display_name": "Python 3 (ipykernel)",
   "language": "python",
   "name": "python3"
  },
  "language_info": {
   "codemirror_mode": {
    "name": "ipython",
    "version": 3
   },
   "file_extension": ".py",
   "mimetype": "text/x-python",
   "name": "python",
   "nbconvert_exporter": "python",
   "pygments_lexer": "ipython3",
   "version": "3.9.10"
  }
 },
 "nbformat": 4,
 "nbformat_minor": 4
}
