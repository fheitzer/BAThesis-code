{
 "cells": [
  {
   "cell_type": "markdown",
   "metadata": {},
   "source": [
    "# Continuous ensemble training\n",
    "Now that the data, the network frameworks and the training loops are set up, we can investigate fruther."
   ]
  },
  {
   "cell_type": "code",
   "execution_count": 17,
   "metadata": {},
   "outputs": [
    {
     "data": {
      "text/plain": [
       "<module 'lib.utils' from '/Users/floyd/Documents/Studium/BAE/continuous_training_using_ensemble_networks/notebooks/../lib/utils.py'>"
      ]
     },
     "execution_count": 17,
     "metadata": {},
     "output_type": "execute_result"
    }
   ],
   "source": [
    "# Reload module in case of changes\n",
    "importlib.reload(utils)"
   ]
  },
  {
   "cell_type": "code",
   "execution_count": 1,
   "metadata": {},
   "outputs": [],
   "source": [
    "import tensorflow as tf\n",
    "import numpy as np\n",
    "import pandas as pd\n",
    "\n",
    "import sys; sys.path.insert(0, '..')\n",
    "import importlib\n",
    "\n",
    "from lib import data, networks, training, utils"
   ]
  },
  {
   "cell_type": "markdown",
   "metadata": {},
   "source": [
    "## Load preprocessed dataset"
   ]
  },
  {
   "cell_type": "code",
   "execution_count": 2,
   "metadata": {},
   "outputs": [
    {
     "name": "stderr",
     "output_type": "stream",
     "text": [
      "2022-03-23 17:15:59.258441: I tensorflow/core/platform/cpu_feature_guard.cc:142] This TensorFlow binary is optimized with oneAPI Deep Neural Network Library (oneDNN) to use the following CPU instructions in performance-critical operations:  SSE4.1 SSE4.2 AVX AVX2 FMA\n",
      "To enable them in other operations, rebuild TensorFlow with the appropriate compiler flags.\n"
     ]
    }
   ],
   "source": [
    "# load 10 class data\n",
    "train_ds_pre, train_ds_post, test_ds, train_generator, test_generator = data.load_data(rotation=30)\n",
    "dataset_shape = (tf.TensorSpec(shape=(28,28,1), dtype=tf.float64),\n",
    "                tf.TensorSpec(shape=(10,), dtype=tf.float32),\n",
    "                tf.TensorSpec(shape=(), dtype=tf.int32),\n",
    "                tf.TensorSpec(shape=(10,), dtype=tf.float32))"
   ]
  },
  {
   "cell_type": "markdown",
   "metadata": {},
   "source": [
    "## Have a look at the normal data"
   ]
  },
  {
   "cell_type": "code",
   "execution_count": 4,
   "metadata": {},
   "outputs": [
    {
     "name": "stderr",
     "output_type": "stream",
     "text": [
      "2022-03-23 16:32:12.705542: I tensorflow/compiler/mlir/mlir_graph_optimization_pass.cc:116] None of the MLIR optimization passes are enabled (registered 2)\n"
     ]
    },
    {
     "data": {
      "image/png": "[encoded data removed]",
      "text/plain": [
       "<Figure size 432x288 with 1 Axes>"
      ]
     },
     "metadata": {
      "needs_background": "light"
     },
     "output_type": "display_data"
    }
   ],
   "source": [
    "for x, y in train_ds_pre.take(1):\n",
    "    utils.plot(x)"
   ]
  },
  {
   "cell_type": "markdown",
   "metadata": {},
   "source": [
    "## Have a look at the generator data"
   ]
  },
  {
   "cell_type": "code",
   "execution_count": 5,
   "metadata": {},
   "outputs": [
    {
     "data": {
      "image/png": "[encoded data removed]",
      "text/plain": [
       "<Figure size 432x288 with 1 Axes>"
      ]
     },
     "metadata": {
      "needs_background": "light"
     },
     "output_type": "display_data"
    }
   ],
   "source": [
    "for x, y in test_generator:\n",
    "    utils.plot(tf.convert_to_tensor(x))\n",
    "    break"
   ]
  },
  {
   "cell_type": "markdown",
   "metadata": {},
   "source": [
    "## Initialize the models"
   ]
  },
  {
   "cell_type": "code",
   "execution_count": 4,
   "metadata": {},
   "outputs": [],
   "source": [
    "num_classes = 10\n",
    "# Small model\n",
    "model1 = networks.NN([128, 128], num_classes)\n",
    "# Broad Model\n",
    "model2 = networks.NN([512], num_classes)\n",
    "# Mixed Model\n",
    "model3 = networks.NN([256, 256], num_classes)\n",
    "# cnn\n",
    "model4 = networks.CNN([(32, 3), (64, 5), (128, 7)], num_classes)\n",
    "# cnn small\n",
    "model5 = networks.CNN([(16, 3), (32, 3), (64, 5)], num_classes)\n",
    "# ensemble\n",
    "ensemble = networks.Ensemble([model1, model2, model3, model4, model5])"
   ]
  },
  {
   "cell_type": "markdown",
   "metadata": {},
   "source": [
    "## Load the weights from pre-training"
   ]
  },
  {
   "cell_type": "code",
   "execution_count": 4,
   "metadata": {},
   "outputs": [
    {
     "data": {
      "text/plain": [
       "<tensorflow.python.training.tracking.util.CheckpointLoadStatus at 0x15988dd90>"
      ]
     },
     "execution_count": 4,
     "metadata": {},
     "output_type": "execute_result"
    }
   ],
   "source": [
    "model1.load_weights('../models/NN128128')\n",
    "model2.load_weights('../models/NN512')\n",
    "model3.load_weights('../models/NN256256')\n",
    "model4.load_weights('../models/CNN3264128')\n",
    "model5.load_weights('../models/CNN163264')"
   ]
  },
  {
   "cell_type": "markdown",
   "metadata": {},
   "source": [
    "## Maybe pre-train more"
   ]
  },
  {
   "cell_type": "code",
   "execution_count": null,
   "metadata": {},
   "outputs": [],
   "source": [
    "training.pretraining(model1, train_ds_pre, test_ds, 10)"
   ]
  },
  {
   "cell_type": "code",
   "execution_count": null,
   "metadata": {},
   "outputs": [],
   "source": [
    "training.pretraining(model2, train_ds_pre, test_ds, 10)"
   ]
  },
  {
   "cell_type": "code",
   "execution_count": null,
   "metadata": {},
   "outputs": [],
   "source": [
    "training.pretraining(model3, train_ds_pre, test_ds, 10)"
   ]
  },
  {
   "cell_type": "code",
   "execution_count": null,
   "metadata": {},
   "outputs": [],
   "source": [
    "training.pretraining(model4, train_ds_pre, test_ds, 5)"
   ]
  },
  {
   "cell_type": "code",
   "execution_count": null,
   "metadata": {},
   "outputs": [],
   "source": [
    "training.pretraining(model5, train_ds_pre, test_ds, 5)"
   ]
  },
  {
   "cell_type": "code",
   "execution_count": 5,
   "metadata": {},
   "outputs": [
    {
     "data": {
      "text/plain": [
       "<tensorflow.python.training.tracking.util.CheckpointLoadStatus at 0x159d7bd00>"
      ]
     },
     "execution_count": 5,
     "metadata": {},
     "output_type": "execute_result"
    }
   ],
   "source": [
    "model1.load_weights('../models/NN128128extra')\n",
    "model2.load_weights('../models/NN512extra')\n",
    "model3.load_weights('../models/NN256256extra')\n",
    "model4.load_weights('../models/CNN3264128extra')\n",
    "model5.load_weights('../models/CNN163264extra')"
   ]
  },
  {
   "cell_type": "markdown",
   "metadata": {},
   "source": [
    "## Ensemble accuracy on normal test data after pre training"
   ]
  },
  {
   "cell_type": "code",
   "execution_count": 8,
   "metadata": {},
   "outputs": [
    {
     "name": "stdout",
     "output_type": "stream",
     "text": [
      "Testing models in ensemble\n",
      "Model: __ 0\n",
      "LOSS 0.36880322932442533 ::: ACC 0.9025909810126582\n",
      "Model: __ 1\n",
      "LOSS 0.3066557862713367 ::: ACC 0.9145569620253164\n",
      "Model: __ 2\n",
      "LOSS 0.30450712950735154 ::: ACC 0.9108979430379747\n",
      "Model: __ 3\n",
      "LOSS 0.1074675908754285 ::: ACC 0.9657832278481012\n",
      "Model: __ 4\n",
      "LOSS 0.1239947147337319 ::: ACC 0.9635087025316456\n",
      "Ensemble:\n",
      "LOSS nan ::: ACC 0.9072389240506329\n"
     ]
    }
   ],
   "source": [
    "_, acc = training.test_ensemble(ensemble, test_ds, tf.keras.losses.CategoricalCrossentropy())"
   ]
  },
  {
   "cell_type": "markdown",
   "metadata": {},
   "source": [
    "## Ensemble accuracy on augmented after pre-training"
   ]
  },
  {
   "cell_type": "code",
   "execution_count": 14,
   "metadata": {},
   "outputs": [
    {
     "name": "stdout",
     "output_type": "stream",
     "text": [
      "Testing models in ensemble\n",
      "Model: __ 0\n",
      "LOSS 0.7099555066185411 ::: ACC 0.7873212678732127\n",
      "Model: __ 1\n",
      "LOSS 0.7094582581468554 ::: ACC 0.7948205179482052\n",
      "Model: __ 2\n",
      "LOSS 0.6644315825674669 ::: ACC 0.7976202379762024\n",
      "Model: __ 3\n",
      "LOSS 0.3573233921088414 ::: ACC 0.8902109789021098\n",
      "Model: __ 4\n",
      "LOSS 0.38099504903665876 ::: ACC 0.8843115688431157\n",
      "Ensemble:\n",
      "LOSS nan ::: ACC 0.7786221377862214\n"
     ]
    }
   ],
   "source": [
    "_, acc = training.test_ensemble(ensemble, test_generator, tf.keras.losses.CategoricalCrossentropy())"
   ]
  },
  {
   "cell_type": "markdown",
   "metadata": {},
   "source": [
    "## Run Post-training dataset through ensemble"
   ]
  },
  {
   "cell_type": "code",
   "execution_count": null,
   "metadata": {},
   "outputs": [],
   "source": [
    "utils.run_data(ensemble, generator=train_generator, datapoints=10000)"
   ]
  },
  {
   "cell_type": "code",
   "execution_count": null,
   "metadata": {},
   "outputs": [],
   "source": [
    "tf.data.experimental.save(ensemble.continuous_training_data, '../datasets/ensemble_extra_contrain_ro30_50000', compression='GZIP')\n",
    "#ensemble.set_continuous_training_data(tf.data.experimental.load('../datasets/ensemble_contrain_ro20', compression='GZIP'))\n",
    "#ensemble.set_continuous_training_data(tf.data.experimental.load('../datasets/ensemble_extra_contrain_ro30', compression='GZIP', element_spec=dataset_shape))"
   ]
  },
  {
   "cell_type": "markdown",
   "metadata": {},
   "source": [
    "## Check how much data we gathered to train on"
   ]
  },
  {
   "cell_type": "code",
   "execution_count": null,
   "metadata": {},
   "outputs": [],
   "source": [
    "utils.plot_collected_data(ensemble)"
   ]
  },
  {
   "cell_type": "markdown",
   "metadata": {},
   "source": [
    "## Cycle through data and train on the collected datapoints"
   ]
  },
  {
   "cell_type": "code",
   "execution_count": null,
   "metadata": {},
   "outputs": [
    {
     "name": "stdout",
     "output_type": "stream",
     "text": [
      "Looking at new data...\n",
      "Continuous training data collected: 2051 Missed data: 1442\n",
      "Cycle: 0\n",
      "Model: ___ 0\n",
      "Epoch: _ 0\n",
      "LOSS 0.7158799366945409 ::: ACC 0.781921807819218 : 0.781921807819218\n",
      "Epoch: _ 1\n",
      "LOSS 0.7136430018815654 ::: ACC 0.7833216678332167 : 0.0013998600139986106\n",
      "Epoch: _ 2\n",
      "LOSS 0.6975314240801531 ::: ACC 0.7883211678832117 : 0.004999500049995054\n",
      "Epoch: _ 3\n",
      "LOSS 0.7075948891831595 ::: ACC 0.7818218178182181 : -0.006499350064993581\n",
      "Epoch: _ 4\n",
      "LOSS 0.6971054021737492 ::: ACC 0.7912208779122087 : 0.009399060093990608\n",
      "Ensemble:\n",
      "LOSS nan ::: ACC 0.7798220177982201\n",
      "Model: ___ 1\n",
      "Epoch: _ 0\n",
      "LOSS 0.7187035488101435 ::: ACC 0.79002099790021 : 0.79002099790021\n",
      "Epoch: _ 1\n",
      "LOSS 0.7179180341802025 ::: ACC 0.79002099790021 : 0.0\n",
      "Epoch: _ 2\n",
      "LOSS 0.7183333606552271 ::: ACC 0.7928207179282072 : 0.002799720027997221\n",
      "Epoch: _ 3\n",
      "LOSS 0.7093137914194162 ::: ACC 0.7942205779422058 : 0.0013998600139986106\n",
      "Epoch: _ 4\n",
      "LOSS 0.723109867219806 ::: ACC 0.7929207079292071 : -0.001299870012998694\n",
      "Ensemble:\n",
      "LOSS nan ::: ACC 0.7813218678132187\n",
      "Model: ___ 2\n",
      "Epoch: _ 0\n",
      "LOSS 0.6423380770056808 ::: ACC 0.808019198080192 : 0.808019198080192\n",
      "Epoch: _ 1\n",
      "LOSS 0.6403930221919983 ::: ACC 0.8054194580541946 : -0.002599740025997388\n",
      "Epoch: _ 2\n",
      "LOSS 0.6466261288415148 ::: ACC 0.8018198180181981 : -0.003599640035996443\n",
      "Epoch: _ 3\n",
      "LOSS 0.6539878744359028 ::: ACC 0.8037196280371963 : 0.0018998100189981937\n",
      "Epoch: _ 4\n",
      "LOSS 0.6535066884371381 ::: ACC 0.8005199480051994 : -0.0031996800319968877\n",
      "Ensemble:\n",
      "LOSS nan ::: ACC 0.78992100789921\n",
      "Model: ___ 3\n",
      "Epoch: _ 0\n",
      "LOSS 0.3481216322642092 ::: ACC 0.8989101089891011 : 0.8989101089891011\n",
      "Epoch: _ 1\n",
      "LOSS 0.35648481257210535 ::: ACC 0.8965103489651035 : -0.0023997600239975547\n",
      "Epoch: _ 2\n",
      "LOSS 0.364956129716325 ::: ACC 0.9004099590040996 : 0.003899610038996082\n",
      "Epoch: _ 3\n",
      "LOSS 0.3721602610660772 ::: ACC 0.9028097190280971 : 0.0023997600239975547\n",
      "Epoch: _ 4\n",
      "LOSS 0.3994391413783247 ::: ACC 0.8969103089691031 : -0.005899410058994081\n",
      "Ensemble:\n",
      "LOSS nan ::: ACC 0.787021297870213\n",
      "Model: ___ 4\n",
      "Epoch: _ 0\n",
      "LOSS 0.369785572228669 ::: ACC 0.8866113388661134 : 0.8866113388661134\n",
      "Epoch: _ 1\n",
      "LOSS 0.3706374542595923 ::: ACC 0.8887111288871112 : 0.002099790020997805\n",
      "Epoch: _ 2\n",
      "LOSS 0.3807450527221711 ::: ACC 0.8843115688431157 : -0.004399560043995554\n",
      "Epoch: _ 3\n",
      "LOSS 0.3771326642953347 ::: ACC 0.8852114788521148 : 0.0008999100089991385\n",
      "Epoch: _ 4\n",
      "LOSS 0.3853980095476856 ::: ACC 0.8882111788821118 : 0.0029997000299969434\n",
      "Ensemble:\n",
      "LOSS nan ::: ACC 0.7914208579142086\n",
      "Looking at new data...\n",
      "Continuous training data collected: 2614 Missed data: 1247\n",
      "Cycle: 1\n",
      "Model: ___ 0\n",
      "Epoch: _ 0\n",
      "LOSS 0.7088852867614186 ::: ACC 0.7834216578342166 : 0.7834216578342166\n",
      "Epoch: _ 1\n",
      "LOSS 0.7111894777737954 ::: ACC 0.7831216878312168 : -0.00029997000299974985\n",
      "Epoch: _ 2\n",
      "LOSS 0.7125166273278597 ::: ACC 0.78002199780022 : -0.00309969003099686\n",
      "Epoch: _ 3\n",
      "LOSS 0.7320925924794203 ::: ACC 0.7751224877512248 : -0.004899510048995137\n",
      "Epoch: _ 4\n",
      "LOSS 0.7124535483330486 ::: ACC 0.7778222177782221 : 0.0026997300269973046\n",
      "Ensemble:\n",
      "LOSS nan ::: ACC 0.798020197980202\n",
      "Model: ___ 1\n",
      "Epoch: _ 0\n",
      "LOSS 0.712559495974182 ::: ACC 0.7892210778922107 : 0.7892210778922107\n",
      "Epoch: _ 1\n",
      "LOSS 0.7141438695215166 ::: ACC 0.7944205579442056 : 0.005199480051994887\n",
      "Epoch: _ 2\n",
      "LOSS 0.7280183034896501 ::: ACC 0.7912208779122087 : -0.0031996800319968877\n",
      "Epoch: _ 3\n",
      "LOSS 0.7312836315468323 ::: ACC 0.7911208879112088 : -9.999000099991662e-05\n",
      "Epoch: _ 4\n",
      "LOSS 0.7165553770540325 ::: ACC 0.7893210678932107 : -0.001799820017998166\n",
      "Ensemble:\n",
      "LOSS nan ::: ACC 0.7936206379362064\n",
      "Model: ___ 2\n",
      "Epoch: _ 0\n",
      "LOSS 0.6571102232617669 ::: ACC 0.8041195880411959 : 0.8041195880411959\n",
      "Epoch: _ 1\n",
      "LOSS 0.6489796740975896 ::: ACC 0.8104189581041896 : 0.006299370062993748\n",
      "Epoch: _ 2\n",
      "LOSS 0.64785760936617 ::: ACC 0.811018898110189 : 0.0005999400059993887\n",
      "Epoch: _ 3\n",
      "LOSS 0.6473134517113681 ::: ACC 0.81001899810019 : -0.0009999000099990552\n",
      "Epoch: _ 4\n",
      "LOSS 0.6412061319434621 ::: ACC 0.8154184581541846 : 0.005399460053994609\n",
      "Ensemble:\n",
      "LOSS nan ::: ACC 0.801919808019198\n",
      "Model: ___ 3\n",
      "Epoch: _ 0\n",
      "LOSS 0.38282226602143565 ::: ACC 0.8993100689931007 : 0.8993100689931007\n",
      "Epoch: _ 1\n",
      "LOSS 0.4317242431315515 ::: ACC 0.8937106289371063 : -0.005599440055994442\n",
      "Epoch: _ 2\n",
      "LOSS 0.41182371442643184 ::: ACC 0.9015098490150985 : 0.007799220077992164\n",
      "Epoch: _ 3\n",
      "LOSS 0.4156220310356304 ::: ACC 0.899010098990101 : -0.0024997500249974713\n",
      "Epoch: _ 4\n",
      "LOSS 0.42506895627561103 ::: ACC 0.8993100689931007 : 0.00029997000299974985\n",
      "Ensemble:\n",
      "LOSS nan ::: ACC 0.8041195880411959\n",
      "Model: ___ 4\n",
      "Epoch: _ 0\n",
      "LOSS 0.4015012155316193 ::: ACC 0.8834116588341165 : 0.8834116588341165\n",
      "Epoch: _ 1\n",
      "LOSS 0.41609962931388694 ::: ACC 0.8832116788321168 : -0.0001999800019997222\n",
      "Epoch: _ 2\n",
      "LOSS 0.41014453389770184 ::: ACC 0.8832116788321168 : 0.0\n",
      "Epoch: _ 3\n",
      "LOSS 0.4258375187918188 ::: ACC 0.8821117888211178 : -0.0010998900109989718\n",
      "Epoch: _ 4\n",
      "LOSS 0.4384279667096081 ::: ACC 0.8801119888011198 : -0.0019998000199979993\n",
      "Ensemble:\n",
      "LOSS nan ::: ACC 0.8033196680331967\n",
      "Looking at new data...\n",
      "Continuous training data collected: 3702 Missed data: 1217\n"
     ]
    }
   ],
   "source": [
    "training.cycle(ensemble,\n",
    "               train_generator,\n",
    "               test_generator,\n",
    "               epochs=5,\n",
    "               batch_size=1,\n",
    "               cycles=100,\n",
    "               data_per_cycle=25000,\n",
    "               name=\"Run01\")"
   ]
  },
  {
   "cell_type": "code",
   "execution_count": 20,
   "metadata": {},
   "outputs": [
    {
     "name": "stdout",
     "output_type": "stream",
     "text": [
      "Before any continuous training:\n",
      "1412.0 collected datapoints labeled correct\n",
      "639.0 collected datapoints were labeled wrong\n",
      "\n"
     ]
    },
    {
     "data": {
      "image/png": "[encoded data removed]",
      "text/plain": [
       "<Figure size 432x288 with 1 Axes>"
      ]
     },
     "metadata": {
      "needs_background": "light"
     },
     "output_type": "display_data"
    },
    {
     "name": "stdout",
     "output_type": "stream",
     "text": [
      "\n",
      "After one cycle of continuous training w/ small learning rate and 5 epochs\n",
      "1902.0 collected datapoints labeled correct\n",
      "712.0 collected datapoints were labeled wrong\n",
      "\n"
     ]
    },
    {
     "data": {
      "image/png": "[encoded data removed]",
      "text/plain": [
       "<Figure size 432x288 with 1 Axes>"
      ]
     },
     "metadata": {
      "needs_background": "light"
     },
     "output_type": "display_data"
    },
    {
     "name": "stdout",
     "output_type": "stream",
     "text": [
      "\n",
      "After one cycle of continuous training w/ small learning rate and 5 epochs\n"
     ]
    }
   ],
   "source": [
    "filepaths = [\"../continuous_training_data/Run01/0_Mar-23-2022_015417556218\",\n",
    "             \"../continuous_training_data/Run01/1_Mar-23-2022_030105947081\"]\n",
    "print(\"Before any continuous training:\")\n",
    "for filepath in filepaths:\n",
    "    ensemble.set_continuous_training_data(tf.data.experimental.load(filepath,\n",
    "                                                                    compression='GZIP',\n",
    "                                                                    element_spec=dataset_shape))\n",
    "    utils.plot_collected_data(ensemble)\n",
    "    print(\"\\nAfter one cycle of continuous training w/ small learning rate and 5 epochs\")"
   ]
  },
  {
   "cell_type": "code",
   "execution_count": null,
   "metadata": {},
   "outputs": [],
   "source": []
  }
 ],
 "metadata": {
  "colab": {
   "authorship_tag": "ABX9TyNNtjlEikE9m+npsusDBi5H",
   "collapsed_sections": [],
   "name": "Continuous Training in Ensemble Neural Networks.ipynb",
   "provenance": []
  },
  "kernelspec": {
   "display_name": "Python 3 (ipykernel)",
   "language": "python",
   "name": "python3"
  },
  "language_info": {
   "codemirror_mode": {
    "name": "ipython",
    "version": 3
   },
   "file_extension": ".py",
   "mimetype": "text/x-python",
   "name": "python",
   "nbconvert_exporter": "python",
   "pygments_lexer": "ipython3",
   "version": "3.9.10"
  }
 },
 "nbformat": 4,
 "nbformat_minor": 4
}
