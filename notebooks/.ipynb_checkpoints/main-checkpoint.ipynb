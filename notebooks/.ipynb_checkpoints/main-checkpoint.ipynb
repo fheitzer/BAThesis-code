{
 "cells": [
  {
   "cell_type": "markdown",
   "metadata": {},
   "source": [
    "# Continuous ensemble training\n",
    "Now that the data, the network frameworks and the training loops are set up, we can investigate fruther."
   ]
  },
  {
   "cell_type": "code",
   "execution_count": 20,
   "metadata": {},
   "outputs": [
    {
     "data": {
      "text/plain": [
       "<module 'lib.training' from '/Users/floyd/Documents/Studium/BAE/continuous_training_using_ensemble_networks/notebooks/../lib/training.py'>"
      ]
     },
     "execution_count": 20,
     "metadata": {},
     "output_type": "execute_result"
    }
   ],
   "source": [
    "# Reload module in case of changes\n",
    "importlib.reload(training)"
   ]
  },
  {
   "cell_type": "code",
   "execution_count": 1,
   "metadata": {},
   "outputs": [],
   "source": [
    "import tensorflow as tf\n",
    "import numpy as np\n",
    "\n",
    "import sys; sys.path.insert(0, '..')\n",
    "import importlib\n",
    "\n",
    "from lib import data, networks, training, utils"
   ]
  },
  {
   "cell_type": "markdown",
   "metadata": {},
   "source": [
    "## Load preprocessed dataset"
   ]
  },
  {
   "cell_type": "code",
   "execution_count": 3,
   "metadata": {},
   "outputs": [],
   "source": [
    "# load 10 class data\n",
    "train_ds_pre, train_ds_post, test_ds, train_generator, test_generator = data.load_data()\n",
    "dataset_shape = (tf.TensorSpec(shape=(28,28,1), dtype=tf.float64),\n",
    "                tf.TensorSpec(shape=(10,), dtype=tf.float32),\n",
    "                tf.TensorSpec(shape=(), dtype=tf.int32))"
   ]
  },
  {
   "cell_type": "markdown",
   "metadata": {},
   "source": [
    "## Have a look at the normal data"
   ]
  },
  {
   "cell_type": "code",
   "execution_count": 4,
   "metadata": {},
   "outputs": [
    {
     "name": "stderr",
     "output_type": "stream",
     "text": [
      "2022-03-15 19:11:23.094535: I tensorflow/compiler/mlir/mlir_graph_optimization_pass.cc:116] None of the MLIR optimization passes are enabled (registered 2)\n"
     ]
    },
    {
     "data": {
      "image/png": "[encoded data removed]",
      "text/plain": [
       "<Figure size 432x288 with 1 Axes>"
      ]
     },
     "metadata": {
      "needs_background": "light"
     },
     "output_type": "display_data"
    }
   ],
   "source": [
    "for x, y in train_ds_pre.take(1):\n",
    "    utils.plot(x)"
   ]
  },
  {
   "cell_type": "markdown",
   "metadata": {},
   "source": [
    "## Have a look at the generator data"
   ]
  },
  {
   "cell_type": "code",
   "execution_count": 5,
   "metadata": {},
   "outputs": [
    {
     "data": {
      "image/png": "[encoded data removed]",
      "text/plain": [
       "<Figure size 432x288 with 1 Axes>"
      ]
     },
     "metadata": {
      "needs_background": "light"
     },
     "output_type": "display_data"
    }
   ],
   "source": [
    "for x, y in test_generator:\n",
    "    utils.plot(tf.convert_to_tensor(x))\n",
    "    break"
   ]
  },
  {
   "cell_type": "markdown",
   "metadata": {},
   "source": [
    "## Initialize the models"
   ]
  },
  {
   "cell_type": "code",
   "execution_count": 6,
   "metadata": {},
   "outputs": [],
   "source": [
    "num_classes = 10\n",
    "# Small model\n",
    "model1 = networks.NN([128, 128], num_classes)\n",
    "# Broad Model\n",
    "model2 = networks.NN([512], num_classes)\n",
    "# Mixed Model\n",
    "model3 = networks.NN([256, 256], num_classes)\n",
    "# cnn\n",
    "model4 = networks.CNN([(32, 3), (64, 5), (128, 7)], num_classes)\n",
    "# cnn small\n",
    "model5 = networks.CNN([(16, 3), (32, 3), (64, 5)], num_classes)\n",
    "# ensemble\n",
    "ensemble = networks.Ensemble([model1, model2, model3, model4, model5])"
   ]
  },
  {
   "cell_type": "markdown",
   "metadata": {},
   "source": [
    "## Load the weights from pre-training"
   ]
  },
  {
   "cell_type": "code",
   "execution_count": 7,
   "metadata": {},
   "outputs": [
    {
     "data": {
      "text/plain": [
       "<tensorflow.python.training.tracking.util.CheckpointLoadStatus at 0x134793a30>"
      ]
     },
     "execution_count": 7,
     "metadata": {},
     "output_type": "execute_result"
    }
   ],
   "source": [
    "model1.load_weights('../models/NN128128')\n",
    "model2.load_weights('../models/NN512')\n",
    "model3.load_weights('../models/NN256256')\n",
    "model4.load_weights('../models/CNN3264128')\n",
    "model5.load_weights('../models/CNN163264')"
   ]
  },
  {
   "cell_type": "markdown",
   "metadata": {},
   "source": [
    "## Maybe pre-train more"
   ]
  },
  {
   "cell_type": "code",
   "execution_count": null,
   "metadata": {},
   "outputs": [],
   "source": [
    "training.pretraining(model1, train_ds_pre, test_ds, 10)"
   ]
  },
  {
   "cell_type": "code",
   "execution_count": null,
   "metadata": {},
   "outputs": [],
   "source": [
    "training.pretraining(model2, train_ds_pre, test_ds, 10)"
   ]
  },
  {
   "cell_type": "code",
   "execution_count": null,
   "metadata": {},
   "outputs": [],
   "source": [
    "training.pretraining(model3, train_ds_pre, test_ds, 10)"
   ]
  },
  {
   "cell_type": "code",
   "execution_count": null,
   "metadata": {},
   "outputs": [],
   "source": [
    "training.pretraining(model4, train_ds_pre, test_ds, 5)"
   ]
  },
  {
   "cell_type": "code",
   "execution_count": null,
   "metadata": {},
   "outputs": [],
   "source": [
    "training.pretraining(model5, train_ds_pre, test_ds, 5)"
   ]
  },
  {
   "cell_type": "code",
   "execution_count": 8,
   "metadata": {},
   "outputs": [
    {
     "data": {
      "text/plain": [
       "<tensorflow.python.training.tracking.util.CheckpointLoadStatus at 0x134776be0>"
      ]
     },
     "execution_count": 8,
     "metadata": {},
     "output_type": "execute_result"
    }
   ],
   "source": [
    "model1.load_weights('../models/NN128128extra')\n",
    "model2.load_weights('../models/NN512extra')\n",
    "model3.load_weights('../models/NN256256extra')\n",
    "model4.load_weights('../models/CNN3264128extra')\n",
    "model5.load_weights('../models/CNN163264extra')"
   ]
  },
  {
   "cell_type": "markdown",
   "metadata": {},
   "source": [
    "## Ensemble accuracy on normal test data after pre training"
   ]
  },
  {
   "cell_type": "code",
   "execution_count": 8,
   "metadata": {},
   "outputs": [
    {
     "name": "stdout",
     "output_type": "stream",
     "text": [
      "Testing models in ensemble\n",
      "Model: __ 0\n",
      "LOSS 0.36880322932442533 ::: ACC 0.9025909810126582\n",
      "Model: __ 1\n",
      "LOSS 0.3066557862713367 ::: ACC 0.9145569620253164\n",
      "Model: __ 2\n",
      "LOSS 0.30450712950735154 ::: ACC 0.9108979430379747\n",
      "Model: __ 3\n",
      "LOSS 0.1074675908754285 ::: ACC 0.9657832278481012\n",
      "Model: __ 4\n",
      "LOSS 0.1239947147337319 ::: ACC 0.9635087025316456\n",
      "Ensemble:\n",
      "LOSS nan ::: ACC 0.9080300632911392\n"
     ]
    }
   ],
   "source": [
    "_, acc = training.test_ensemble(ensemble, test_ds, tf.keras.losses.CategoricalCrossentropy())"
   ]
  },
  {
   "cell_type": "markdown",
   "metadata": {},
   "source": [
    "## Ensemble accuracy on generator after pre-training"
   ]
  },
  {
   "cell_type": "code",
   "execution_count": 9,
   "metadata": {},
   "outputs": [
    {
     "name": "stdout",
     "output_type": "stream",
     "text": [
      "Testing models in ensemble\n",
      "Model: __ 0\n",
      "LOSS 0.7467903999609686 ::: ACC 0.7693230676932307\n",
      "Model: __ 1\n",
      "LOSS 0.7463923781229352 ::: ACC 0.7795220477952205\n",
      "Model: __ 2\n",
      "LOSS 0.6734906677304753 ::: ACC 0.7893210678932107\n",
      "Model: __ 3\n",
      "LOSS 0.3754493957337404 ::: ACC 0.8874112588741125\n",
      "Model: __ 4\n",
      "LOSS 0.3801624588285571 ::: ACC 0.8815118488151185\n",
      "Ensemble:\n",
      "LOSS nan ::: ACC 0.7738226177382261\n"
     ]
    }
   ],
   "source": [
    "_, acc = training.test_ensemble(ensemble, test_generator, tf.keras.losses.CategoricalCrossentropy())"
   ]
  },
  {
   "cell_type": "markdown",
   "metadata": {},
   "source": [
    "## Run Post-training dataset through ensemble"
   ]
  },
  {
   "cell_type": "code",
   "execution_count": 12,
   "metadata": {},
   "outputs": [],
   "source": [
    "utils.run_data(ensemble, generator=train_generator, datapoints=10000)"
   ]
  },
  {
   "cell_type": "code",
   "execution_count": null,
   "metadata": {},
   "outputs": [],
   "source": [
    "tf.data.experimental.save(ensemble.continuous_training_data, '../datasets/ensemble_extra_contrain_ro30_50000', compression='GZIP')\n",
    "#ensemble.set_continuous_training_data(tf.data.experimental.load('../datasets/ensemble_contrain_ro20', compression='GZIP'))\n",
    "#ensemble.set_continuous_training_data(tf.data.experimental.load('../datasets/ensemble_extra_contrain_ro30', compression='GZIP', element_spec=dataset_shape))"
   ]
  },
  {
   "cell_type": "markdown",
   "metadata": {},
   "source": [
    "## Check how much data we gathered to train on"
   ]
  },
  {
   "cell_type": "code",
   "execution_count": 14,
   "metadata": {},
   "outputs": [
    {
     "data": {
      "image/png": "[encoded data removed]",
      "text/plain": [
       "<Figure size 432x288 with 1 Axes>"
      ]
     },
     "metadata": {
      "needs_background": "light"
     },
     "output_type": "display_data"
    }
   ],
   "source": [
    "utils.plot_collected_data(ensemble)"
   ]
  },
  {
   "cell_type": "markdown",
   "metadata": {},
   "source": [
    "## Check how much data we could not predict"
   ]
  },
  {
   "cell_type": "code",
   "execution_count": 13,
   "metadata": {},
   "outputs": [
    {
     "name": "stdout",
     "output_type": "stream",
     "text": [
      "830 555\n"
     ]
    }
   ],
   "source": [
    "print(len(ensemble.continuous_training_data), len(ensemble.missed_data))"
   ]
  },
  {
   "cell_type": "markdown",
   "metadata": {},
   "source": [
    "## Try new contrain-rundata loop"
   ]
  },
  {
   "cell_type": "code",
   "execution_count": null,
   "metadata": {},
   "outputs": [
    {
     "name": "stdout",
     "output_type": "stream",
     "text": [
      "Ensemble:\n",
      "LOSS 2.8247339298082417 ::: ACC 0.09989001099890012\n",
      "Looking at new data...\n"
     ]
    }
   ],
   "source": [
    "training.continuous_training(ensemble,\n",
    "                             generator,\n",
    "                             epochs=1,\n",
    "                             batch_size=1,\n",
    "                             run_it=4,\n",
    "                             data_to_run=10000)"
   ]
  },
  {
   "cell_type": "markdown",
   "metadata": {},
   "source": [
    "## Training individual networks on the collected data"
   ]
  },
  {
   "cell_type": "code",
   "execution_count": 21,
   "metadata": {},
   "outputs": [
    {
     "name": "stdout",
     "output_type": "stream",
     "text": [
      "Model: ___ 0\n",
      "Epoch: _ 0\n",
      "LOSS 0.7223452279471221 ::: ACC 0.7757224277572243\n",
      "Epoch: _ 1\n",
      "LOSS 0.7315480729675654 ::: ACC 0.773922607739226\n",
      "Epoch: _ 2\n",
      "LOSS 0.7426768117166632 ::: ACC 0.7683231676832317\n",
      "Epoch: _ 3\n",
      "LOSS 0.7422166025732039 ::: ACC 0.7729227077292271\n",
      "Epoch: _ 4\n",
      "LOSS 0.7362695033930681 ::: ACC 0.7735226477352265\n",
      "Epoch: _ 5\n",
      "LOSS 0.7185815512599849 ::: ACC 0.7743225677432257\n",
      "Epoch: _ 6\n",
      "LOSS 0.7415247742518181 ::: ACC 0.7696230376962304\n",
      "Epoch: _ 7\n",
      "LOSS 0.7228660416765048 ::: ACC 0.77002299770023\n",
      "Epoch: _ 8\n",
      "LOSS 0.7291483263104354 ::: ACC 0.777022297770223\n",
      "Epoch: _ 9\n",
      "LOSS 0.7288720483704768 ::: ACC 0.772022797720228\n",
      "Model: ___ 1\n",
      "Epoch: _ 0\n",
      "LOSS 0.778051452945954 ::: ACC 0.7701229877012299\n",
      "Epoch: _ 1\n",
      "LOSS 0.7675268259254394 ::: ACC 0.7709229077092291\n",
      "Epoch: _ 2\n",
      "LOSS 0.7660594572916282 ::: ACC 0.7732226777322267\n",
      "Epoch: _ 3\n",
      "LOSS 0.795807834399112 ::: ACC 0.7648235176482352\n",
      "Epoch: _ 4\n",
      "LOSS 0.7652463035084038 ::: ACC 0.7727227277272273\n",
      "Epoch: _ 5\n",
      "LOSS 0.763471393025117 ::: ACC 0.77002299770023\n",
      "Epoch: _ 6\n",
      "LOSS 0.7547826221347707 ::: ACC 0.7751224877512248\n",
      "Epoch: _ 7\n",
      "LOSS 0.7628043383895659 ::: ACC 0.7703229677032297\n",
      "Epoch: _ 8\n",
      "LOSS 0.7554820728807233 ::: ACC 0.7747225277472253\n",
      "Epoch: _ 9\n",
      "LOSS 0.7752714577229219 ::: ACC 0.7673232676732327\n",
      "Model: ___ 2\n",
      "Epoch: _ 0\n",
      "LOSS 0.6638062533490473 ::: ACC 0.7962203779622038\n",
      "Epoch: _ 1\n",
      "LOSS 0.6780769911189208 ::: ACC 0.789021097890211\n",
      "Epoch: _ 2\n",
      "LOSS 0.6951107975336839 ::: ACC 0.7895210478952105\n",
      "Epoch: _ 3\n",
      "LOSS 0.6832666869671323 ::: ACC 0.7898210178982101\n",
      "Epoch: _ 4\n",
      "LOSS 0.672452274640447 ::: ACC 0.7942205779422058\n",
      "Epoch: _ 5\n",
      "LOSS 0.6808798908207547 ::: ACC 0.7908209179082092\n",
      "Epoch: _ 6\n",
      "LOSS 0.6838487464794065 ::: ACC 0.7923207679232077\n",
      "Epoch: _ 7\n",
      "LOSS 0.6824811946438711 ::: ACC 0.7892210778922107\n",
      "Epoch: _ 8\n",
      "LOSS 0.6947359796288106 ::: ACC 0.787021297870213\n",
      "Epoch: _ 9\n",
      "LOSS 0.6749224087801751 ::: ACC 0.7921207879212079\n",
      "Model: ___ 3\n",
      "Epoch: _ 0\n",
      "LOSS 0.33838623079683083 ::: ACC 0.8969103089691031\n",
      "Epoch: _ 1\n",
      "LOSS 0.33127101196403724 ::: ACC 0.8971102889711029\n",
      "Epoch: _ 2\n",
      "LOSS 0.3596834140705497 ::: ACC 0.8953104689531047\n",
      "Epoch: _ 3\n",
      "LOSS 0.3445158414401722 ::: ACC 0.8986101389861014\n",
      "Epoch: _ 4\n",
      "LOSS 0.35724843090495856 ::: ACC 0.8956104389561044\n",
      "Epoch: _ 5\n",
      "LOSS 0.35632094132834485 ::: ACC 0.8969103089691031\n",
      "Epoch: _ 6\n",
      "LOSS 0.3673848712926331 ::: ACC 0.8977102289771023\n",
      "Epoch: _ 7\n",
      "LOSS 0.38118134436702084 ::: ACC 0.8954104589541045\n",
      "Epoch: _ 8\n",
      "LOSS 0.3812046508421633 ::: ACC 0.8918108189181082\n",
      "Epoch: _ 9\n",
      "LOSS 0.3627396886931485 ::: ACC 0.8969103089691031\n",
      "Model: ___ 4\n",
      "Epoch: _ 0\n",
      "LOSS 0.3700415864748681 ::: ACC 0.884011598840116\n",
      "Epoch: _ 1\n",
      "LOSS 0.38636049609902057 ::: ACC 0.882011798820118\n",
      "Epoch: _ 2\n",
      "LOSS 0.3671057061010082 ::: ACC 0.8845115488451155\n",
      "Epoch: _ 3\n",
      "LOSS 0.3894146333288374 ::: ACC 0.8823117688231177\n",
      "Epoch: _ 4\n",
      "LOSS 0.37369783669946416 ::: ACC 0.8854114588541145\n",
      "Epoch: _ 5\n",
      "LOSS 0.37429090934028103 ::: ACC 0.886011398860114\n",
      "Epoch: _ 6\n",
      "LOSS 0.3817748225303681 ::: ACC 0.8828117188281172\n",
      "Epoch: _ 7\n",
      "LOSS 0.3739323317275358 ::: ACC 0.8844115588441156\n",
      "Epoch: _ 8\n",
      "LOSS 0.37310075330712544 ::: ACC 0.8858114188581142\n",
      "Epoch: _ 9\n",
      "LOSS 0.3843752462735833 ::: ACC 0.8819118088191181\n"
     ]
    }
   ],
   "source": [
    "training.continuous_training(ensemble, generator, epochs=10)"
   ]
  },
  {
   "cell_type": "markdown",
   "metadata": {},
   "source": [
    "## Test ensemble accuracy after continuous training"
   ]
  },
  {
   "cell_type": "code",
   "execution_count": null,
   "metadata": {},
   "outputs": [],
   "source": [
    "_, acc = training.test(ensemble, generator, tf.keras.losses.CategoricalCrossentropy())\n",
    "acc"
   ]
  },
  {
   "cell_type": "markdown",
   "metadata": {},
   "source": [
    "## Get new data to train on"
   ]
  },
  {
   "cell_type": "code",
   "execution_count": 18,
   "metadata": {},
   "outputs": [],
   "source": [
    "utils.run_data(ensemble, generator=generator, datapoints=10000)"
   ]
  },
  {
   "cell_type": "markdown",
   "metadata": {},
   "source": [
    "## Have a look at it"
   ]
  },
  {
   "cell_type": "code",
   "execution_count": 20,
   "metadata": {},
   "outputs": [
    {
     "data": {
      "image/png": "[encoded data removed]",
      "text/plain": [
       "<Figure size 432x288 with 1 Axes>"
      ]
     },
     "metadata": {
      "needs_background": "light"
     },
     "output_type": "display_data"
    }
   ],
   "source": [
    "utils.plot_collected_data(ensemble)"
   ]
  },
  {
   "cell_type": "code",
   "execution_count": 19,
   "metadata": {},
   "outputs": [
    {
     "name": "stdout",
     "output_type": "stream",
     "text": [
      "864 541\n"
     ]
    }
   ],
   "source": [
    "print(len(ensemble.continuous_training_data), len(ensemble.missed_data))"
   ]
  },
  {
   "cell_type": "markdown",
   "metadata": {},
   "source": [
    "## Train some more"
   ]
  },
  {
   "cell_type": "code",
   "execution_count": 21,
   "metadata": {},
   "outputs": [
    {
     "name": "stdout",
     "output_type": "stream",
     "text": [
      "Model: ___ 0\n",
      "Epoch: _ 0\n",
      "LOSS 0.7460490852017386 ::: ACC 0.7716228377162284\n",
      "Epoch: _ 1\n",
      "LOSS 0.7392996562110873 ::: ACC 0.7725227477252274\n",
      "Model: ___ 1\n",
      "Epoch: _ 0\n",
      "LOSS 0.7934451586806117 ::: ACC 0.7659234076592341\n",
      "Epoch: _ 1\n",
      "LOSS 0.7806305042278281 ::: ACC 0.7662233776622338\n",
      "Model: ___ 2\n",
      "Epoch: _ 0\n",
      "LOSS 0.6804282106688107 ::: ACC 0.7889211078892111\n",
      "Epoch: _ 1\n",
      "LOSS 0.6744933953043726 ::: ACC 0.7941205879412059\n",
      "Model: ___ 3\n",
      "Epoch: _ 0\n",
      "LOSS 0.3419744286580274 ::: ACC 0.896010398960104\n",
      "Epoch: _ 1\n",
      "LOSS 0.3493182487267136 ::: ACC 0.8954104589541045\n",
      "Model: ___ 4\n",
      "Epoch: _ 0\n",
      "LOSS 0.37836802872159775 ::: ACC 0.8796120387961204\n",
      "Epoch: _ 1\n",
      "LOSS 0.37474113243389506 ::: ACC 0.8838116188381162\n"
     ]
    }
   ],
   "source": [
    "training.continuous_training(ensemble, generator, epochs=2)"
   ]
  },
  {
   "cell_type": "markdown",
   "metadata": {},
   "source": [
    "## Test ensemble again"
   ]
  },
  {
   "cell_type": "code",
   "execution_count": null,
   "metadata": {},
   "outputs": [],
   "source": [
    "_, acc = training.test(ensemble, generator, tf.keras.losses.CategoricalCrossentropy())\n",
    "acc"
   ]
  },
  {
   "cell_type": "code",
   "execution_count": 22,
   "metadata": {},
   "outputs": [],
   "source": [
    "utils.run_data(ensemble, generator=generator, datapoints=10000)"
   ]
  },
  {
   "cell_type": "code",
   "execution_count": null,
   "metadata": {},
   "outputs": [],
   "source": [
    "utils.plot_collected_data(ensemble)"
   ]
  },
  {
   "cell_type": "code",
   "execution_count": null,
   "metadata": {},
   "outputs": [],
   "source": [
    "print(len(ensemble.continuous_training_data), len(ensemble.missed_data))"
   ]
  },
  {
   "cell_type": "code",
   "execution_count": null,
   "metadata": {},
   "outputs": [],
   "source": [
    "training.continuous_training(ensemble, generator, epochs=10)"
   ]
  },
  {
   "cell_type": "code",
   "execution_count": null,
   "metadata": {},
   "outputs": [],
   "source": [
    "utils.run_data(ensemble, generator=generator, datapoints=10000)"
   ]
  },
  {
   "cell_type": "code",
   "execution_count": null,
   "metadata": {},
   "outputs": [],
   "source": [
    "utils.plot_collected_data(ensemble)"
   ]
  },
  {
   "cell_type": "code",
   "execution_count": null,
   "metadata": {},
   "outputs": [],
   "source": [
    "print(len(ensemble.continuous_training_data), len(ensemble.missed_data))"
   ]
  },
  {
   "cell_type": "code",
   "execution_count": null,
   "metadata": {},
   "outputs": [],
   "source": []
  }
 ],
 "metadata": {
  "colab": {
   "authorship_tag": "ABX9TyNNtjlEikE9m+npsusDBi5H",
   "collapsed_sections": [],
   "name": "Continuous Training in Ensemble Neural Networks.ipynb",
   "provenance": []
  },
  "kernelspec": {
   "display_name": "Python 3 (ipykernel)",
   "language": "python",
   "name": "python3"
  },
  "language_info": {
   "codemirror_mode": {
    "name": "ipython",
    "version": 3
   },
   "file_extension": ".py",
   "mimetype": "text/x-python",
   "name": "python",
   "nbconvert_exporter": "python",
   "pygments_lexer": "ipython3",
   "version": "3.9.10"
  }
 },
 "nbformat": 4,
 "nbformat_minor": 4
}
