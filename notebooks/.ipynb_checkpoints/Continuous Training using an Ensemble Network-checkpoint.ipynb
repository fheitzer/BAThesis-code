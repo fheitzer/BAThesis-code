{
 "cells": [
  {
   "cell_type": "markdown",
   "metadata": {},
   "source": [
    "# Continuous Training\n",
    "Now that the data, the network frameworks and the training loops are set up, we can investigate fruther."
   ]
  },
  {
   "cell_type": "code",
   "execution_count": 1,
   "metadata": {},
   "outputs": [],
   "source": [
    "import tensorflow as tf\n",
    "import tensorflow_datasets as tfds\n",
    "import numpy as np\n",
    "\n",
    "import sys; sys.path.insert(0, '..')\n",
    "from lib import data, networks, training, utils"
   ]
  },
  {
   "cell_type": "markdown",
   "metadata": {},
   "source": [
    "## Load preprocessed dataset"
   ]
  },
  {
   "cell_type": "code",
   "execution_count": 2,
   "metadata": {},
   "outputs": [],
   "source": [
    "train_ds_pre, train_ds_post, test_ds = data.load_data()"
   ]
  },
  {
   "cell_type": "markdown",
   "metadata": {},
   "source": [
    "## Initialize the models"
   ]
  },
  {
   "cell_type": "code",
   "execution_count": 3,
   "metadata": {},
   "outputs": [],
   "source": [
    "num_classes = 10\n",
    "# Small model\n",
    "model1 = networks.NN([128, 128], num_classes)\n",
    "# Broad Model\n",
    "model2 = networks.NN([512], num_classes)\n",
    "# Mixed Model\n",
    "model3 = networks.NN([256, 256], num_classes)\n",
    "# cnn\n",
    "model4 = networks.CNN([(32, 3), (64, 5), (128, 7)], num_classes)\n",
    "# cnn small\n",
    "model5 = networks.CNN([(32, 3), (64, 5)], num_classes)\n",
    "# ensemble\n",
    "ensemble = networks.Ensemble([model1, model2, model3, model4, model5])"
   ]
  },
  {
   "cell_type": "markdown",
   "metadata": {},
   "source": [
    "## Load the weights from pre-training"
   ]
  },
  {
   "cell_type": "code",
   "execution_count": 4,
   "metadata": {},
   "outputs": [
    {
     "data": {
      "text/plain": [
       "<tensorflow.python.training.tracking.util.CheckpointLoadStatus at 0x7fa45e0ba6d0>"
      ]
     },
     "execution_count": 4,
     "metadata": {},
     "output_type": "execute_result"
    }
   ],
   "source": [
    "model1.load_weights('../models/NN128128')\n",
    "model2.load_weights('../models/NN512')\n",
    "model3.load_weights('../models/NN256256')\n",
    "model4.load_weights('../models/CNN3264128')\n",
    "model5.load_weights('../models/CNN3264')"
   ]
  },
  {
   "cell_type": "markdown",
   "metadata": {},
   "source": [
    "## Training more"
   ]
  },
  {
   "cell_type": "code",
   "execution_count": 6,
   "metadata": {},
   "outputs": [
    {
     "name": "stdout",
     "output_type": "stream",
     "text": [
      "Epoch: __ 0\n",
      "LOSS 0.2554123438423193 ::: ACC 0.9214794303797469\n",
      "Epoch: __ 1\n",
      "LOSS 0.21176532964823366 ::: ACC 0.9371044303797469\n",
      "Epoch: __ 2\n",
      "LOSS 0.18432069187276537 ::: ACC 0.9442246835443038\n",
      "Epoch: __ 3\n",
      "LOSS 0.17320989573350812 ::: ACC 0.9459058544303798\n",
      "Epoch: __ 4\n",
      "LOSS 0.14726521364778658 ::: ACC 0.9555973101265823\n",
      "Epoch: __ 5\n",
      "LOSS 0.13116081523461431 ::: ACC 0.9614319620253164\n",
      "Epoch: __ 6\n",
      "LOSS 0.11645003488358063 ::: ACC 0.9629153481012658\n",
      "Epoch: __ 7\n",
      "LOSS 0.10868739885502035 ::: ACC 0.9658821202531646\n",
      "Epoch: __ 8\n",
      "LOSS 0.10489365043519419 ::: ACC 0.9664754746835443\n",
      "Epoch: __ 9\n",
      "LOSS 0.09528752655392111 ::: ACC 0.971123417721519\n"
     ]
    }
   ],
   "source": [
    "_,_,_ = training.pretraining(model1, train_ds_pre, test_ds, 10)"
   ]
  },
  {
   "cell_type": "code",
   "execution_count": 7,
   "metadata": {},
   "outputs": [
    {
     "name": "stdout",
     "output_type": "stream",
     "text": [
      "Epoch: __ 0\n",
      "LOSS 0.24088615558664256 ::: ACC 0.9285007911392406\n",
      "Epoch: __ 1\n",
      "LOSS 0.22434276031165185 ::: ACC 0.9329509493670886\n",
      "Epoch: __ 2\n",
      "LOSS 0.19383532063493245 ::: ACC 0.9431368670886076\n",
      "Epoch: __ 3\n",
      "LOSS 0.16103835082082432 ::: ACC 0.9517405063291139\n",
      "Epoch: __ 4\n",
      "LOSS 0.14533387919109833 ::: ACC 0.9566851265822784\n",
      "Epoch: __ 5\n",
      "LOSS 0.12760847305902576 ::: ACC 0.9627175632911392\n",
      "Epoch: __ 6\n",
      "LOSS 0.1166419577254336 ::: ACC 0.9654865506329114\n",
      "Epoch: __ 7\n",
      "LOSS 0.11383178789475107 ::: ACC 0.9669699367088608\n",
      "Epoch: __ 8\n",
      "LOSS 0.10190625418024728 ::: ACC 0.9686511075949367\n",
      "Epoch: __ 9\n",
      "LOSS 0.09516765572472557 ::: ACC 0.9714200949367089\n"
     ]
    }
   ],
   "source": [
    "_,_,_ = training.pretraining(model2, train_ds_pre, test_ds, 10)"
   ]
  },
  {
   "cell_type": "code",
   "execution_count": 8,
   "metadata": {},
   "outputs": [
    {
     "name": "stdout",
     "output_type": "stream",
     "text": [
      "Epoch: __ 0\n",
      "LOSS 0.22592086571304104 ::: ACC 0.9334454113924051\n",
      "Epoch: __ 1\n",
      "LOSS 0.18953055553609813 ::: ACC 0.9419501582278481\n",
      "Epoch: __ 2\n",
      "LOSS 0.16473928834252718 ::: ACC 0.9498615506329114\n",
      "Epoch: __ 3\n",
      "LOSS 0.14419840100586792 ::: ACC 0.9564873417721519\n",
      "Epoch: __ 4\n",
      "LOSS 0.12261266172038321 ::: ACC 0.962618670886076\n",
      "Epoch: __ 5\n",
      "LOSS 0.11247150942718587 ::: ACC 0.9650909810126582\n",
      "Epoch: __ 6\n",
      "LOSS 0.11001198245153491 ::: ACC 0.965684335443038\n",
      "Epoch: __ 7\n",
      "LOSS 0.0960674210145032 ::: ACC 0.9683544303797469\n",
      "Epoch: __ 8\n",
      "LOSS 0.08996709554361863 ::: ACC 0.9716178797468354\n",
      "Epoch: __ 9\n",
      "LOSS 0.08532000887001381 ::: ACC 0.9744857594936709\n"
     ]
    }
   ],
   "source": [
    "_,_,_ = training.pretraining(model3, train_ds_pre, test_ds, 10)"
   ]
  },
  {
   "cell_type": "code",
   "execution_count": 9,
   "metadata": {},
   "outputs": [
    {
     "name": "stdout",
     "output_type": "stream",
     "text": [
      "Epoch: __ 0\n",
      "LOSS 0.09478600373892468 ::: ACC 0.9699367088607594\n",
      "Epoch: __ 1\n",
      "LOSS 0.04534693135175547 ::: ACC 0.9852650316455697\n"
     ]
    }
   ],
   "source": [
    "_,_,_ = training.pretraining(model4, train_ds_pre, test_ds, 2)"
   ]
  },
  {
   "cell_type": "code",
   "execution_count": 10,
   "metadata": {},
   "outputs": [
    {
     "name": "stdout",
     "output_type": "stream",
     "text": [
      "Epoch: __ 0\n",
      "LOSS 0.38599012528039234 ::: ACC 0.8826147151898734\n",
      "Epoch: __ 1\n",
      "LOSS 0.26714766732876816 ::: ACC 0.9176226265822784\n",
      "Epoch: __ 2\n",
      "LOSS 0.23058390056219283 ::: ACC 0.9282041139240507\n",
      "Epoch: __ 3\n",
      "LOSS 0.22459132299770282 ::: ACC 0.928995253164557\n"
     ]
    }
   ],
   "source": [
    "_,_,_ = training.pretraining(model5, train_ds_pre, test_ds, 4)"
   ]
  },
  {
   "cell_type": "markdown",
   "metadata": {},
   "source": [
    "## Ensemble accuracy after pre-training"
   ]
  },
  {
   "cell_type": "code",
   "execution_count": 11,
   "metadata": {},
   "outputs": [
    {
     "data": {
      "text/plain": [
       "0.9650909810126582"
      ]
     },
     "execution_count": 11,
     "metadata": {},
     "output_type": "execute_result"
    }
   ],
   "source": [
    "_, acc = training.test(ensemble, test_ds, tf.keras.losses.CategoricalCrossentropy())\n",
    "acc"
   ]
  },
  {
   "cell_type": "markdown",
   "metadata": {},
   "source": [
    "## Run Post-training dataset through ensemble"
   ]
  },
  {
   "cell_type": "code",
   "execution_count": 12,
   "metadata": {},
   "outputs": [],
   "source": [
    "utils.run_data(ensemble, train_ds_post)"
   ]
  },
  {
   "cell_type": "markdown",
   "metadata": {},
   "source": [
    "## Check how much data we gathered to train on"
   ]
  },
  {
   "cell_type": "code",
   "execution_count": 14,
   "metadata": {},
   "outputs": [
    {
     "data": {
      "text/plain": [
       "1306"
      ]
     },
     "execution_count": 14,
     "metadata": {},
     "output_type": "execute_result"
    }
   ],
   "source": [
    "len(ensemble.get_data())"
   ]
  },
  {
   "cell_type": "markdown",
   "metadata": {},
   "source": [
    "## Check how much data we could not predict"
   ]
  },
  {
   "cell_type": "code",
   "execution_count": 15,
   "metadata": {},
   "outputs": [
    {
     "data": {
      "text/plain": [
       "219"
      ]
     },
     "execution_count": 15,
     "metadata": {},
     "output_type": "execute_result"
    }
   ],
   "source": [
    "len(ensemble.get_missed_data())"
   ]
  },
  {
   "cell_type": "markdown",
   "metadata": {},
   "source": [
    "## Training individual networks on the collected data"
   ]
  },
  {
   "cell_type": "code",
   "execution_count": 17,
   "metadata": {},
   "outputs": [
    {
     "name": "stdout",
     "output_type": "stream",
     "text": [
      "Model: __ 0\n",
      "Epoch: __ 0\n",
      "LOSS 0.09365696698586351 ::: ACC 0.9708267405063291\n",
      "Model: __ 1\n",
      "Epoch: __ 0\n",
      "LOSS 0.09418028501109986 ::: ACC 0.9721123417721519\n",
      "Model: __ 2\n",
      "Epoch: __ 0\n",
      "LOSS 0.08310858464852872 ::: ACC 0.9750791139240507\n",
      "Model: __ 3\n",
      "Epoch: __ 0\n",
      "LOSS 0.038494817867633424 ::: ACC 0.9880340189873418\n",
      "Model: __ 4\n",
      "Epoch: __ 0\n",
      "LOSS 0.20575335277598114 ::: ACC 0.9347310126582279\n"
     ]
    }
   ],
   "source": [
    "_,_,_ = training.posttraining(ensemble, test_ds, epochs=1)"
   ]
  },
  {
   "cell_type": "markdown",
   "metadata": {},
   "source": [
    "## Testing ensemble after post-training"
   ]
  },
  {
   "cell_type": "code",
   "execution_count": 18,
   "metadata": {},
   "outputs": [
    {
     "data": {
      "text/plain": [
       "0.9691455696202531"
      ]
     },
     "execution_count": 18,
     "metadata": {},
     "output_type": "execute_result"
    }
   ],
   "source": [
    "_, acc = training.test(ensemble, test_ds, tf.keras.losses.CategoricalCrossentropy())\n",
    "acc"
   ]
  },
  {
   "cell_type": "code",
   "execution_count": null,
   "metadata": {},
   "outputs": [],
   "source": []
  },
  {
   "cell_type": "markdown",
   "metadata": {},
   "source": [
    "## TODO\n",
    "- ensemble acc\n",
    "- Collect performance for 20,40,60,80,99 acc\n",
    "- one good one bad one ugly"
   ]
  },
  {
   "cell_type": "code",
   "execution_count": null,
   "metadata": {},
   "outputs": [],
   "source": []
  }
 ],
 "metadata": {
  "colab": {
   "authorship_tag": "ABX9TyNNtjlEikE9m+npsusDBi5H",
   "collapsed_sections": [],
   "name": "Continuous Training in Ensemble Neural Networks.ipynb",
   "provenance": []
  },
  "kernelspec": {
   "display_name": "Python 3",
   "language": "python",
   "name": "python3"
  },
  "language_info": {
   "codemirror_mode": {
    "name": "ipython",
    "version": 3
   },
   "file_extension": ".py",
   "mimetype": "text/x-python",
   "name": "python",
   "nbconvert_exporter": "python",
   "pygments_lexer": "ipython3",
   "version": "3.7.9"
  }
 },
 "nbformat": 4,
 "nbformat_minor": 4
}
